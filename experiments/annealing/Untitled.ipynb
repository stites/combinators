{
 "cells": [
  {
   "cell_type": "code",
   "execution_count": 2,
   "metadata": {},
   "outputs": [
    {
     "data": {
      "text/plain": [
       "[[1.0, 0.0],\n",
       " [0.7071067811865476, 0.7071067811865475],\n",
       " [6.123233995736766e-17, 1.0],\n",
       " [-0.7071067811865475, 0.7071067811865476],\n",
       " [-1.0, 1.2246467991473532e-16],\n",
       " [-0.7071067811865477, -0.7071067811865475],\n",
       " [-1.8369701987210297e-16, -1.0],\n",
       " [0.7071067811865474, -0.7071067811865477]]"
      ]
     },
     "execution_count": 2,
     "metadata": {},
     "output_type": "execute_result"
    }
   ],
   "source": [
    "count=8\n",
    "import math\n",
    "angles = list(range(0, 360, 360//count))[:count] # integer division may give +1\n",
    "position = lambda radians: [math.cos(radians), math.sin(radians)]\n",
    "[position(a*math.pi/180) for a in angles]"
   ]
  },
  {
   "cell_type": "code",
   "execution_count": 6,
   "metadata": {},
   "outputs": [
    {
     "data": {
      "text/plain": [
       "[0.0,\n",
       " 0.7853981633974483,\n",
       " 1.5707963267948966,\n",
       " 2.356194490192345,\n",
       " 3.141592653589793,\n",
       " 3.9269908169872414,\n",
       " 4.71238898038469,\n",
       " 5.497787143782138]"
      ]
     },
     "execution_count": 6,
     "metadata": {},
     "output_type": "execute_result"
    }
   ],
   "source": [
    "position = lambda radians: [math.cos(radians), math.sin(radians)]\n",
    "[(a*math.pi/180) for a in angles]"
   ]
  },
  {
   "cell_type": "code",
   "execution_count": 10,
   "metadata": {},
   "outputs": [
    {
     "data": {
      "text/plain": [
       "[0.0,\n",
       " 0.7853981633974483,\n",
       " 1.5707963267948966,\n",
       " 2.356194490192345,\n",
       " 3.141592653589793,\n",
       " 3.9269908169872414,\n",
       " 4.71238898038469,\n",
       " 5.497787143782138]"
      ]
     },
     "execution_count": 10,
     "metadata": {},
     "output_type": "execute_result"
    }
   ],
   "source": [
    "[a*(360/8)*(2*math.pi/180) for a in range(8)]"
   ]
  },
  {
   "cell_type": "code",
   "execution_count": null,
   "metadata": {},
   "outputs": [],
   "source": []
  }
 ],
 "metadata": {
  "kernelspec": {
   "display_name": "Python 3",
   "language": "python",
   "name": "python3"
  },
  "language_info": {
   "codemirror_mode": {
    "name": "ipython",
    "version": 3
   },
   "file_extension": ".py",
   "mimetype": "text/x-python",
   "name": "python",
   "nbconvert_exporter": "python",
   "pygments_lexer": "ipython3",
   "version": "3.8.5"
  }
 },
 "nbformat": 4,
 "nbformat_minor": 4
}
